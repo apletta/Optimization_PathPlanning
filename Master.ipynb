{
 "cells": [
  {
   "cell_type": "markdown",
   "metadata": {},
   "source": [
    "# General Idea"
   ]
  },
  {
   "cell_type": "code",
   "execution_count": 5,
   "metadata": {},
   "outputs": [
    {
     "data": {
      "image/png": "[encoded data removed]",
      "text/plain": [
       "Figure(PyObject <Figure size 640x480 with 1 Axes>)"
      ]
     },
     "metadata": {},
     "output_type": "display_data"
    },
    {
     "name": "stdout",
     "output_type": "stream",
     "text": [
      "Optimal\n",
      "Total Distance: 100.6268589535458\n",
      "Total Acceleration: 1.3752809267626347e7\n",
      "Start: [40, 0]\n",
      "End: [40, 100]\n"
     ]
    }
   ],
   "source": [
    "using JuMP, PyPlot, Ipopt\n",
    "\n",
    "# Define model, variables, constraints, objective\n",
    "m = Model(solver=IpoptSolver(print_level=0))\n",
    "\n",
    "time = 50\n",
    "start = [40, 0]\n",
    "finish = [40, 100]\n",
    "circles = [ 40 50;]\n",
    "\n",
    "r = 5\n",
    "\n",
    "num_circles, dim = size(circles)\n",
    "\n",
    "@variable(m, x_A[1:2, 1:time])\n",
    "@variable(m, v_A[1:2, 1:time])\n",
    "@variable(m, u_A[1:2, 1:time])\n",
    "\n",
    "# x index on east/west, y index on north/south\n",
    "@constraint(m, x_A[:, 1] .== start) # Robot's initial position\n",
    "@constraint(m, v_A[:, 1] .== [0, 0]) # Robot's initial velocity \n",
    "@constraint(m, 0 .<= x_A[1, :] .<= 80   )\n",
    "@constraint(m, 0 .<= x_A[2, :] .<= 101  )\n",
    "\n",
    "setvalue(x_A[:, 25], [20, 50])\n",
    "\n",
    "# Keep path away from obstacles defined by radii from circle center\n",
    "for t in 1:time\n",
    "    @NLconstraint(m, (x_A[1,t]-circles[1,1])^2 + (x_A[2,t]-circles[1,2])^2  >= (r)^2) \n",
    "end\n",
    "\n",
    "# Dynamic equations\n",
    "for t in 1:time-1\n",
    "    @constraint(m, x_A[:, t+1] .== x_A[:, t] + (1/3600)*v_A[:, t]) # Alice's position    \n",
    "    @constraint(m, v_A[:, t+1] .== v_A[:, t] + u_A[:, t]) # Alice's velocity\n",
    "end\n",
    "\n",
    "@constraint(m, x_A[:, time] .== finish) # final location\n",
    "@constraint(m, v_A[:, time] .== [0,0]) # final velocity\n",
    "\n",
    "@objective(m, Min, sum(u_A.^2)) # minimize total energy\n",
    "\n",
    "# Solve\n",
    "status = solve(m)\n",
    "println(status)\n",
    "\n",
    "d_tot_actual = 0\n",
    "for t in 1:time-1\n",
    "    d_tot_actual += sqrt( (getvalue(x_A[1,t+1])-getvalue(x_A[1,t]))^2 + (getvalue(x_A[2,t+1])-getvalue(x_A[2,t]))^2) \n",
    "end\n",
    "\n",
    "println(\"Total Distance: \", d_tot_actual)\n",
    "\n",
    "# Output\n",
    "x_A = getvalue(x_A)\n",
    "println(\"Total Acceleration: \", getobjectivevalue(m))\n",
    "println(\"Start: \", start)\n",
    "println(\"End: \", finish)\n",
    "\n",
    "# Graph path\n",
    "plot(x_A[1, :], x_A[2, :], color=\"blue\", label=\"Alice\")\n",
    "\n",
    "# Plot circle\n",
    "t = range(0,stop=2pi,length=100)         # parameter that traverses the circle\n",
    "plot( circles[1,1] .+ r*cos.(t), circles[1,2] .+ r*sin.(t), color=\"red\")  # plot circle radius r with center (x1, x2)\n",
    "\n",
    "rightWally = range(0, stop=100, length = 100)\n",
    "rightWallx = 0*rightWally\n",
    "plot(rightWallx, rightWally, color=\"r\")\n",
    "\n",
    "leftWallx = 0*rightWally .+ 80\n",
    "plot(leftWallx, rightWally, color=\"r\")\n",
    "\n",
    "bottomx = range(0, stop=80, length=10)\n",
    "bottomy = 0*bottomx\n",
    "topy = bottomy .+ 100\n",
    "plot(bottomx, bottomy, color=\"r\")\n",
    "plot(bottomx, topy, color=\"r\")\n",
    "\n",
    "# Plot time steps\n",
    "for t in 1:time\n",
    "   plot(x_A[1, t], x_A[2, t], \".\", color=\"orange\")\n",
    "end\n",
    "\n",
    "\n",
    "\n",
    "# Formatting\n",
    "axis(\"equal\")                            # make x and y scales equal\n",
    "grid(\"on\")\n",
    "legend()\n",
    ";"
   ]
  },
  {
   "cell_type": "markdown",
   "metadata": {},
   "source": [
    "# Minimum Distance"
   ]
  },
  {
   "cell_type": "code",
   "execution_count": null,
   "metadata": {},
   "outputs": [],
   "source": []
  },
  {
   "cell_type": "code",
   "execution_count": null,
   "metadata": {},
   "outputs": [],
   "source": []
  },
  {
   "cell_type": "code",
   "execution_count": null,
   "metadata": {},
   "outputs": [],
   "source": []
  },
  {
   "cell_type": "markdown",
   "metadata": {},
   "source": [
    "# Track"
   ]
  },
  {
   "cell_type": "code",
   "execution_count": null,
   "metadata": {},
   "outputs": [],
   "source": []
  },
  {
   "cell_type": "code",
   "execution_count": null,
   "metadata": {},
   "outputs": [],
   "source": []
  },
  {
   "cell_type": "code",
   "execution_count": null,
   "metadata": {},
   "outputs": [],
   "source": []
  },
  {
   "cell_type": "markdown",
   "metadata": {},
   "source": [
    "# Macaroni"
   ]
  },
  {
   "cell_type": "code",
   "execution_count": null,
   "metadata": {},
   "outputs": [],
   "source": []
  }
 ],
 "metadata": {
  "kernelspec": {
   "display_name": "Julia 1.1.0",
   "language": "julia",
   "name": "julia-1.1"
  },
  "language_info": {
   "file_extension": ".jl",
   "mimetype": "application/julia",
   "name": "julia",
   "version": "1.1.0"
  }
 },
 "nbformat": 4,
 "nbformat_minor": 2
}
