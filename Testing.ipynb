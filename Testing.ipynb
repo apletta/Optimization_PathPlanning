{
 "cells": [
  {
   "cell_type": "code",
   "execution_count": 14,
   "metadata": {},
   "outputs": [
    {
     "name": "stdout",
     "output_type": "stream",
     "text": [
      "Optimal\n",
      "Total energy: 345.47052686284803\n",
      "Meeting location: (1.0, 1.0)\n",
      "0."
     ]
    },
    {
     "data": {
      "image/png": "[encoded data removed]",
      "text/plain": [
       "Figure(PyObject <Figure size 640x480 with 1 Axes>)"
      ]
     },
     "metadata": {},
     "output_type": "display_data"
    },
    {
     "name": "stdout",
     "output_type": "stream",
     "text": [
      "4190831572479731\n",
      "0.6000000099981815\n"
     ]
    }
   ],
   "source": [
    "using JuMP, Gurobi, PyPlot, Ipopt\n",
    "\n",
    "# Define model, variables, constraints, objective\n",
    "m = Model(solver=IpoptSolver(print_level=0))\n",
    "\n",
    "time = 60\n",
    "start = [0, 0]\n",
    "finish = [1, 1]\n",
    "lower_bound = 0.6\n",
    "upper_bound = 0.8\n",
    "time_step = 36\n",
    "\n",
    "@variable(m, x_A[1:2, 1:time])\n",
    "@variable(m, v_A[1:2, 1:time])\n",
    "@variable(m, u_A[1:2, 1:time])\n",
    "\n",
    "# x index on east/west, y index on north/south\n",
    "@constraint(m, x_A[:, 1] .== start) # Alice's initial position\n",
    "@constraint(m, v_A[:, 1] .== [0, 100]) # Alice's initial velocity \n",
    "\n",
    "#@constraint(m, x_A[1, 10] >= 0.1) # Alice's initial position\n",
    "#@constraint(m, x_A[1, 10] <= 0.1) # Alice's initial position\n",
    "\n",
    "# Our practice constraints\n",
    "for t in 34:36\n",
    "    #@constraint(m, (x_A[2, t] >= upper_bound))\n",
    "    @constraint(m, (x_A[2, t] <= lower_bound))\n",
    "end\n",
    "\n",
    "\n",
    "# Dynamic equations\n",
    "for t in 1:time-1\n",
    "    @constraint(m, x_A[:, t+1] .== x_A[:, t] + (1/3600)*v_A[:, t]) # Alice's position    \n",
    "    @constraint(m, v_A[:, t+1] .== v_A[:, t] + u_A[:, t]) # Alice's velocity\n",
    "end\n",
    "\n",
    "@constraint(m, x_A[:, time] .== finish) # final location\n",
    "\n",
    "\n",
    "\n",
    "#@NLconstraint(m, distance, sqrt((x_A[1,: +1] - x_A[1,:])^2 + (x_A[2,t+1] - x_A[2,t])^2) )\n",
    "@objective(m, Min, sum(u_A.^2)) # minimize total energy\n",
    "\n",
    "# Solve\n",
    "status = solve(m)\n",
    "println(status)\n",
    "\n",
    "# Output\n",
    "x_A = getvalue(x_A)\n",
    "println(\"Total energy: \", getobjectivevalue(m))\n",
    "println(\"Meeting location: (\", x_A[1,60],\", \",x_A[2,60],\")\")\n",
    "\n",
    "box_y = range(lower_bound, stop=upper_bound, length=100)\n",
    "box_x = 0*box_y .+ 0.4\n",
    "upper_y = range(upper_bound, stop=upper_bound, length=100)\n",
    "upper_x = LinRange(0, 1, 100)\n",
    "lower_y = range(lower_bound, stop=lower_bound, length=100)\n",
    "lower_x = LinRange(0, 1, 100)\n",
    "\n",
    "# Graph\n",
    "plot(x_A[1, :], x_A[2, :], color=\"blue\", label=\"Alice\")\n",
    "plot(x_A[1, time_step], x_A[2, time_step], \".\", color=\"orange\")\n",
    "plot(box_x, box_y, color=\"red\")\n",
    "plot(upper_x, upper_y, color=\"green\")\n",
    "plot(lower_x, lower_y, color=\"yellow\")\n",
    "\n",
    "grid(\"on\")\n",
    "legend()\n",
    "println(x_A[1,time_step])\n",
    "println(x_A[2,time_step])\n",
    ";"
   ]
  },
  {
   "cell_type": "code",
   "execution_count": null,
   "metadata": {},
   "outputs": [],
   "source": []
  },
  {
   "cell_type": "code",
   "execution_count": 102,
   "metadata": {},
   "outputs": [],
   "source": [
    "0.012058188408084808\n",
    "0.04601438030208982\n",
    ";"
   ]
  },
  {
   "cell_type": "code",
   "execution_count": null,
   "metadata": {},
   "outputs": [],
   "source": []
  }
 ],
 "metadata": {
  "kernelspec": {
   "display_name": "Julia 1.0.3",
   "language": "julia",
   "name": "julia-1.0"
  },
  "language_info": {
   "file_extension": ".jl",
   "mimetype": "application/julia",
   "name": "julia",
   "version": "1.0.3"
  }
 },
 "nbformat": 4,
 "nbformat_minor": 2
}
