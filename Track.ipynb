{
 "cells": [
  {
   "cell_type": "code",
   "execution_count": 58,
   "metadata": {},
   "outputs": [
    {
     "data": {
      "image/png": "[encoded data removed]",
      "text/plain": [
       "Figure(PyObject <Figure size 640x480 with 1 Axes>)"
      ]
     },
     "metadata": {},
     "output_type": "display_data"
    },
    {
     "name": "stdout",
     "output_type": "stream",
     "text": [
      "Infeasible\n",
      "d_tot_actual: 0\n",
      "Total energy: 0\n",
      "Meeting location: (NaN, NaN)"
     ]
    },
    {
     "name": "stderr",
     "output_type": "stream",
     "text": [
      "┌ Warning: Not solved to optimality, status: Infeasible\n",
      "└ @ JuMP C:\\Users\\Ian\\.julia\\packages\\JuMP\\PbnIJ\\src\\nlp.jl:1283\n",
      "┌ Warning: Variable value not defined for component of x_A. Check that the model was properly solved.\n",
      "└ @ JuMP C:\\Users\\Ian\\.julia\\packages\\JuMP\\PbnIJ\\src\\JuMP.jl:475\n"
     ]
    },
    {
     "name": "stdout",
     "output_type": "stream",
     "text": [
      "\n"
     ]
    }
   ],
   "source": [
    "using JuMP, PyPlot, Ipopt\n",
    "\n",
    "# Define model, variables, constraints, objective\n",
    "m = Model(solver=IpoptSolver(print_level=0))\n",
    "\n",
    "time = 50\n",
    "start = [40, 0]\n",
    "finish = [40, 100]\n",
    "#time_step = 36\n",
    "circles = [20 30;\n",
    "            60 30;\n",
    "            45 50;\n",
    "            20 70;\n",
    "            60 70;\n",
    "            ]\n",
    "\n",
    "r = 10\n",
    "\n",
    "ellipse = [0, 40]\n",
    "r_a = 15\n",
    "r_b = 5\n",
    "\n",
    "ellipse2 = [80, 60]\n",
    "r_a2 = 15\n",
    "r_b2 = 5\n",
    "\n",
    "num_circles, dim = size(circles)\n",
    "\n",
    "@variable(m, x_A[1:2, 1:time])\n",
    "@variable(m, v_A[1:2, 1:time])\n",
    "@variable(m, u_A[1:2, 1:time])\n",
    "\n",
    "# x index on east/west, y index on north/south\n",
    "@constraint(m, x_A[:, 1] .== start) # Alice's initial position\n",
    "@constraint(m, v_A[:, 1] .== [-10, 3]) # Alice's initial velocity \n",
    "@constraint(m, 0 .<= x_A[1, :] .<= 80   )\n",
    "@constraint(m, 0 .<= x_A[2, :] .<= 101  )\n",
    "\n",
    "# Keep path away from obstacles defined by radii from circle center\n",
    "for t in 1:time\n",
    "    #@NLconstraint(m, ((r_b^2)*(x_A[1, t] - ellipse[2])^2 + (r_a^2)*(x_A[2, t] - ellipse[1])^2) >= ((r_a)^2 * (r_b)^2) + 0.01  )\n",
    "    #@NLconstraint(m, ((r_b2^2)*(x_A[1, t] - ellipse2[2])^2 + (r_a2^2)*(x_A[2, t] - ellipse2[1])^2) >= ((r_a2)^2 * (r_b2)^2) + 0.01 )\n",
    "    for c in 1:num_circles\n",
    "        @NLconstraint(m, (x_A[1,t]-circles[c,1])^2 + (x_A[2,t]-circles[c,2])^2  >= (r + r/10)^2) \n",
    "    end\n",
    "end\n",
    "\n",
    "# Dynamic equations\n",
    "for t in 1:time-1\n",
    "    @constraint(m, x_A[:, t+1] .== x_A[:, t] + (1/3600)*v_A[:, t]) # Alice's position    \n",
    "    @constraint(m, v_A[:, t+1] .== v_A[:, t] + u_A[:, t]) # Alice's velocity\n",
    "end\n",
    "\n",
    "@constraint(m, x_A[:, time] .== finish) # final location\n",
    "@constraint(m, v_A[:, time] .== [0,0]) # final velocity\n",
    "\n",
    "# Adds up euclidian distance between each time step\n",
    "#d_tot = @NLexpression(m, sum{ (x_A[1,t+1]-x_A[1,t])^2 + (x_A[2,t+1]-x_A[2,t])^2, t=1:time-1} )  \n",
    "\n",
    "#@NLobjective(m, Min, d_tot)\n",
    "@objective(m, Min, sum(u_A.^2)) # minimize total energy\n",
    "\n",
    "# Solve\n",
    "status = solve(m)\n",
    "println(status)\n",
    "\n",
    "d_tot_actual = 0\n",
    "# for t in 1:time-1\n",
    "#    d_tot_actual += sqrt( (getvalue(x_A[1,t+1])-getvalue(x_A[1,t]))^2 + (getvalue(x_A[2,t+1])-getvalue(x_A[2,t]))^2) \n",
    "# end\n",
    "\n",
    "#println(\"d_tot: \", getvalue(d_tot))\n",
    "println(\"d_tot_actual: \", d_tot_actual)\n",
    "\n",
    "# Printing all values for d_tot\n",
    "# for t in 1:time-1\n",
    "#     println(t,\" \",sqrt( (getvalue(x_A[1,t+1])-getvalue(x_A[1,t]))^2 + (getvalue(x_A[2,t+1])-getvalue(x_A[2,t]))^2 ))\n",
    "# end\n",
    "\n",
    "# Output\n",
    "x_A = getvalue(x_A)\n",
    "println(\"Total energy: \", getobjectivevalue(m))\n",
    "println(\"Meeting location: (\", x_A[1,time],\", \",x_A[2,time],\")\")\n",
    "\n",
    "# Graph path\n",
    "plot(x_A[1, :], x_A[2, :], color=\"blue\", label=\"Alice\")\n",
    "#plot(x_A[1, time_step], x_A[2, time_step], \".\", color=\"orange\")\n",
    "\n",
    "# Plot circle\n",
    "t = range(0,stop=2pi,length=100)         # parameter that traverses the circle\n",
    "for c in 1:num_circles\n",
    "    plot( circles[c,1] .+ r*cos.(t), circles[c,2] .+ r*sin.(t), color=\"red\")  # plot circle radius r with center (x1, x2)\n",
    "end\n",
    "\n",
    "rightWally = range(0, stop=100, length = 100)\n",
    "rightWallx = 0*rightWally\n",
    "plot(rightWallx, rightWally, color=\"g\")\n",
    "\n",
    "leftWallx = 0*rightWally .+ 80\n",
    "plot(leftWallx, rightWally, color=\"g\")\n",
    "\n",
    "bottomx = range(0, stop=80, length=10)\n",
    "bottomy = 0*bottomx\n",
    "plot(bottomx, bottomy, color=\"g\")\n",
    "\n",
    "# Plot time steps\n",
    "for t in 1:time\n",
    "   plot(x_A[1, t], x_A[2, t], \".\", color=\"orange\")\n",
    "end\n",
    "\n",
    "#plot( ellipse[1] .+ r_a*cos.(t), ellipse[2] .+ r_b*sin.(t), label = \"Ellipse\", color = \"green\")\n",
    "#plot( ellipse2[1] .+ r_a2*cos.(t), ellipse2[2] .+ r_b2*sin.(t), label = \"Ellipse\", color = \"green\")\n",
    "\n",
    "# Formatting\n",
    "axis(\"equal\")                            # make x and y scales equal\n",
    "grid(\"on\")\n",
    "legend()\n",
    ";"
   ]
  },
  {
   "cell_type": "code",
   "execution_count": null,
   "metadata": {},
   "outputs": [],
   "source": []
  },
  {
   "cell_type": "code",
   "execution_count": null,
   "metadata": {},
   "outputs": [],
   "source": []
  }
 ],
 "metadata": {
  "kernelspec": {
   "display_name": "Julia 1.1.0",
   "language": "julia",
   "name": "julia-1.1"
  },
  "language_info": {
   "file_extension": ".jl",
   "mimetype": "application/julia",
   "name": "julia",
   "version": "1.1.0"
  }
 },
 "nbformat": 4,
 "nbformat_minor": 2
}
